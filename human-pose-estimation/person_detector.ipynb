{
 "cells": [
  {
   "cell_type": "code",
   "execution_count": 1,
   "metadata": {
    "id": "0ISQsngxyLIG"
   },
   "outputs": [
    {
     "name": "stdout",
     "output_type": "stream",
     "text": [
      "Collecting boto3\n",
      "  Downloading boto3-1.26.115-py3-none-any.whl (135 kB)\n",
      "     -------------------------------------- 135.6/135.6 KB 1.2 MB/s eta 0:00:00\n",
      "Collecting jmespath<2.0.0,>=0.7.1\n",
      "  Downloading jmespath-1.0.1-py3-none-any.whl (20 kB)\n",
      "Collecting botocore<1.30.0,>=1.29.115\n",
      "  Downloading botocore-1.29.115-py3-none-any.whl (10.6 MB)\n",
      "     --------------------------------------- 10.6/10.6 MB 22.6 MB/s eta 0:00:00\n",
      "Collecting s3transfer<0.7.0,>=0.6.0\n",
      "  Downloading s3transfer-0.6.0-py3-none-any.whl (79 kB)\n",
      "     ---------------------------------------- 79.6/79.6 KB ? eta 0:00:00\n",
      "Requirement already satisfied: urllib3<1.27,>=1.25.4 in c:\\users\\krexkim\\anaconda3\\envs\\jh\\lib\\site-packages (from botocore<1.30.0,>=1.29.115->boto3) (1.26.9)\n",
      "Requirement already satisfied: python-dateutil<3.0.0,>=2.1 in c:\\users\\krexkim\\appdata\\roaming\\python\\python37\\site-packages (from botocore<1.30.0,>=1.29.115->boto3) (2.8.2)\n",
      "Requirement already satisfied: six>=1.5 in c:\\users\\krexkim\\anaconda3\\envs\\jh\\lib\\site-packages (from python-dateutil<3.0.0,>=2.1->botocore<1.30.0,>=1.29.115->boto3) (1.15.0)\n",
      "Installing collected packages: jmespath, botocore, s3transfer, boto3\n",
      "Successfully installed boto3-1.26.115 botocore-1.29.115 jmespath-1.0.1 s3transfer-0.6.0\n"
     ]
    }
   ],
   "source": [
    "!pip3 install boto3"
   ]
  },
  {
   "cell_type": "code",
   "execution_count": 2,
   "metadata": {
    "id": "Eo_yO7bfy4hu"
   },
   "outputs": [],
   "source": [
    "# This code downloads the coco dataset from Amazon S3 in parallel.\n",
    "import boto3\n",
    "from botocore import UNSIGNED\n",
    "from botocore.client import Config\n",
    "import multiprocessing\n",
    "import subprocess\n",
    "files = ['val2017.zip', 'annotations_trainval2017.zip']\n",
    "\n",
    "s3 = boto3.client('s3', config=Config(signature_version=UNSIGNED))\n",
    "def download_and_unzip_from_s3(file_name, bucket_name='fast-ai-coco'):\n",
    "    print(\"Downloading\", file_name)\n",
    "    s3.download_file(bucket_name, file_name, file_name)\n",
    "    print(\"Finished downloading\", file_name, \". Starting to unzip.\")\n",
    "    subprocess.run([\"unzip\", file_name])\n",
    "    print(\"Finished unzipping\", file_name)\n",
    "\n",
    "# Download in parallel\n",
    "num_cpus = multiprocessing.cpu_count()\n",
    "with multiprocessing.Pool(num_cpus) as p:\n",
    "    p.map(download_and_unzip_from_s3, files)\n",
    "\n",
    "print(\"Done transferring all datasets\")"
   ]
  },
  {
   "cell_type": "code",
   "execution_count": 2,
   "metadata": {
    "id": "yi9_cynf11aM"
   },
   "outputs": [],
   "source": [
    "from pycocotools.coco import COCO\n",
    "import numpy as np\n",
    "import random\n",
    "import matplotlib.pyplot as plt\n",
    "import torch\n",
    "import torchvision\n",
    "import cv2\n",
    "from PIL import Image"
   ]
  },
  {
   "cell_type": "code",
   "execution_count": 3,
   "metadata": {
    "id": "Ht9fYybKC5qd"
   },
   "outputs": [],
   "source": [
    "def get_inference(img_path, category):\n",
    "  model = torchvision.models.detection.fasterrcnn_resnet50_fpn(pretrained=True) \n",
    "  device = torch.device(\"cuda:0\" if torch.cuda.is_available() else cpu)\n",
    "  model = model.to(device)\n",
    "  model.eval()\n",
    "  \n",
    "  img = Image.open(img_path)\n",
    "\n",
    "  img_tensor = torch.tensor(np.asarray(img)).permute(2,0,1).unsqueeze(0)\n",
    "  img_tensor = img_tensor.float()/255.0 \n",
    "  img_tensor = img_tensor.to(device)\n",
    "\n",
    "  with torch.no_grad():\n",
    "    pred = model(img_tensor)\n",
    "\n",
    "  pred_indices = [i for i, x in enumerate(pred[0]['labels'] ) if x == category]\n",
    "  pred_boxes = pred[0]['boxes'][pred_indices].int().cpu().numpy()\n",
    "  pred_score = list(pred[0]['scores'][pred_indices].cpu().numpy())\n",
    "\n",
    "  return pred_indices, pred_boxes, pred_score"
   ]
  },
  {
   "cell_type": "code",
   "execution_count": 4,
   "metadata": {
    "id": "XoRmGAHTEY5r"
   },
   "outputs": [],
   "source": [
    "def object_detector(img_path, category, threshold):\n",
    "  indices, boxes, scores = get_inference(img_path, category)\n",
    "\n",
    "  for i in range(len(boxes)):\n",
    "    if scores[i] > threshold:\n",
    "      print('bounding box',boxes[i])\n",
    "      print('score',scores[i])\n",
    "      img = cv2.imread(img_path)\n",
    "      img = cv2.cvtColor(img, cv2.COLOR_BGR2RGB)\n",
    "      x,y,w,h = boxes[i]\n",
    "\n",
    "      img = cv2.rectangle(img, (x, y),(w,h), (36,255,12), 1)\n",
    "      cv2.putText(img, 'Person', (x, y-10), cv2.FONT_HERSHEY_SIMPLEX, 0.9, (36,255,12), 2)\n",
    "      \n",
    "      plt.figure(figsize=(10,8)) \n",
    "      plt.imshow(img) \n",
    "      plt.xticks([]) \n",
    "      plt.yticks([]) \n",
    "      plt.show()"
   ]
  },
  {
   "cell_type": "code",
   "execution_count": null,
   "metadata": {},
   "outputs": [],
   "source": []
  },
  {
   "cell_type": "code",
   "execution_count": 6,
   "metadata": {
    "colab": {
     "base_uri": "https://localhost:8080/",
     "height": 1000
    },
    "id": "pepzLIWAGRic",
    "outputId": "c18ac860-47e4-44e3-c0bf-424cfb51cce0"
   },
   "outputs": [
    {
     "name": "stdout",
     "output_type": "stream",
     "text": [
      "loading annotations into memory...\n"
     ]
    },
    {
     "ename": "FileNotFoundError",
     "evalue": "[Errno 2] No such file or directory: '/content/annotations/instances_val2017.json'",
     "output_type": "error",
     "traceback": [
      "\u001b[1;31m---------------------------------------------------------------------------\u001b[0m",
      "\u001b[1;31mFileNotFoundError\u001b[0m                         Traceback (most recent call last)",
      "\u001b[1;32m~\\AppData\\Local\\Temp\\ipykernel_15984\\2541402967.py\u001b[0m in \u001b[0;36m<module>\u001b[1;34m\u001b[0m\n\u001b[0;32m      2\u001b[0m \u001b[0mdataType\u001b[0m \u001b[1;33m=\u001b[0m \u001b[1;34m'val2017'\u001b[0m\u001b[1;33m\u001b[0m\u001b[1;33m\u001b[0m\u001b[0m\n\u001b[0;32m      3\u001b[0m \u001b[0mannFile\u001b[0m\u001b[1;33m=\u001b[0m\u001b[1;34m'{}/annotations/instances_{}.json'\u001b[0m\u001b[1;33m.\u001b[0m\u001b[0mformat\u001b[0m\u001b[1;33m(\u001b[0m\u001b[0mdataDir\u001b[0m\u001b[1;33m,\u001b[0m\u001b[0mdataType\u001b[0m\u001b[1;33m)\u001b[0m\u001b[1;33m\u001b[0m\u001b[1;33m\u001b[0m\u001b[0m\n\u001b[1;32m----> 4\u001b[1;33m \u001b[0mcoco\u001b[0m\u001b[1;33m=\u001b[0m\u001b[0mCOCO\u001b[0m\u001b[1;33m(\u001b[0m\u001b[0mannFile\u001b[0m\u001b[1;33m)\u001b[0m\u001b[1;33m\u001b[0m\u001b[1;33m\u001b[0m\u001b[0m\n\u001b[0m\u001b[0;32m      5\u001b[0m \u001b[0mcatID\u001b[0m \u001b[1;33m=\u001b[0m \u001b[0mcoco\u001b[0m\u001b[1;33m.\u001b[0m\u001b[0mgetCatIds\u001b[0m\u001b[1;33m(\u001b[0m\u001b[0mcatNms\u001b[0m\u001b[1;33m=\u001b[0m\u001b[1;34m'person'\u001b[0m\u001b[1;33m)\u001b[0m\u001b[1;33m\u001b[0m\u001b[1;33m\u001b[0m\u001b[0m\n\u001b[0;32m      6\u001b[0m \u001b[0mimgIds\u001b[0m \u001b[1;33m=\u001b[0m \u001b[0mcoco\u001b[0m\u001b[1;33m.\u001b[0m\u001b[0mgetImgIds\u001b[0m\u001b[1;33m(\u001b[0m\u001b[0mcatIds\u001b[0m\u001b[1;33m=\u001b[0m\u001b[0mcatID\u001b[0m\u001b[1;33m)\u001b[0m\u001b[1;33m\u001b[0m\u001b[1;33m\u001b[0m\u001b[0m\n",
      "\u001b[1;32mc:\\Users\\KrexKim\\anaconda3\\envs\\jh\\lib\\site-packages\\pycocotools\\coco.py\u001b[0m in \u001b[0;36m__init__\u001b[1;34m(self, annotation_file)\u001b[0m\n\u001b[0;32m     79\u001b[0m             \u001b[0mprint\u001b[0m\u001b[1;33m(\u001b[0m\u001b[1;34m'loading annotations into memory...'\u001b[0m\u001b[1;33m)\u001b[0m\u001b[1;33m\u001b[0m\u001b[1;33m\u001b[0m\u001b[0m\n\u001b[0;32m     80\u001b[0m             \u001b[0mtic\u001b[0m \u001b[1;33m=\u001b[0m \u001b[0mtime\u001b[0m\u001b[1;33m.\u001b[0m\u001b[0mtime\u001b[0m\u001b[1;33m(\u001b[0m\u001b[1;33m)\u001b[0m\u001b[1;33m\u001b[0m\u001b[1;33m\u001b[0m\u001b[0m\n\u001b[1;32m---> 81\u001b[1;33m             \u001b[1;32mwith\u001b[0m \u001b[0mopen\u001b[0m\u001b[1;33m(\u001b[0m\u001b[0mannotation_file\u001b[0m\u001b[1;33m,\u001b[0m \u001b[1;34m'r'\u001b[0m\u001b[1;33m)\u001b[0m \u001b[1;32mas\u001b[0m \u001b[0mf\u001b[0m\u001b[1;33m:\u001b[0m\u001b[1;33m\u001b[0m\u001b[1;33m\u001b[0m\u001b[0m\n\u001b[0m\u001b[0;32m     82\u001b[0m                 \u001b[0mdataset\u001b[0m \u001b[1;33m=\u001b[0m \u001b[0mjson\u001b[0m\u001b[1;33m.\u001b[0m\u001b[0mload\u001b[0m\u001b[1;33m(\u001b[0m\u001b[0mf\u001b[0m\u001b[1;33m)\u001b[0m\u001b[1;33m\u001b[0m\u001b[1;33m\u001b[0m\u001b[0m\n\u001b[0;32m     83\u001b[0m             \u001b[1;32massert\u001b[0m \u001b[0mtype\u001b[0m\u001b[1;33m(\u001b[0m\u001b[0mdataset\u001b[0m\u001b[1;33m)\u001b[0m\u001b[1;33m==\u001b[0m\u001b[0mdict\u001b[0m\u001b[1;33m,\u001b[0m \u001b[1;34m'annotation file format {} not supported'\u001b[0m\u001b[1;33m.\u001b[0m\u001b[0mformat\u001b[0m\u001b[1;33m(\u001b[0m\u001b[0mtype\u001b[0m\u001b[1;33m(\u001b[0m\u001b[0mdataset\u001b[0m\u001b[1;33m)\u001b[0m\u001b[1;33m)\u001b[0m\u001b[1;33m\u001b[0m\u001b[1;33m\u001b[0m\u001b[0m\n",
      "\u001b[1;31mFileNotFoundError\u001b[0m: [Errno 2] No such file or directory: '/content/annotations/instances_val2017.json'"
     ]
    }
   ],
   "source": [
    "dataDir = '/content'\n",
    "dataType = 'val2017'\n",
    "annFile='{}/annotations/instances_{}.json'.format(dataDir,dataType)\n",
    "coco=COCO(annFile)\n",
    "catID = coco.getCatIds(catNms='person')\n",
    "imgIds = coco.getImgIds(catIds=catID)\n",
    "\n",
    "images = random.sample(imgIds,2)\n",
    "\n",
    "for img_id in coco.loadImgs(images):\n",
    "  file_name = img_id['file_name']\n",
    "  print(file_name)\n",
    "  img_path = dataDir + '/' + dataType + '/' + file_name\n",
    "\n",
    "  object_detector(img_path, catID[0], threshold=0.7)"
   ]
  },
  {
   "cell_type": "code",
   "execution_count": null,
   "metadata": {},
   "outputs": [],
   "source": []
  }
 ],
 "metadata": {
  "accelerator": "GPU",
  "colab": {
   "collapsed_sections": [],
   "name": "person_detector.ipynb",
   "provenance": []
  },
  "kernelspec": {
   "display_name": "Python 3",
   "name": "python3"
  },
  "language_info": {
   "codemirror_mode": {
    "name": "ipython",
    "version": 3
   },
   "file_extension": ".py",
   "mimetype": "text/x-python",
   "name": "python",
   "nbconvert_exporter": "python",
   "pygments_lexer": "ipython3",
   "version": "3.7.12"
  }
 },
 "nbformat": 4,
 "nbformat_minor": 1
}
